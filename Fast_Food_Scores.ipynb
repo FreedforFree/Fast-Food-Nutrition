{
 "cells": [
  {
   "cell_type": "code",
   "execution_count": 65,
   "metadata": {},
   "outputs": [],
   "source": [
    "from google.cloud import bigquery\n",
    "import pandas as pd\n",
    "import os\n",
    "import numpy as np\n",
    "import matplotlib.pyplot as plt\n",
    "from IPython.display import clear_output  "
   ]
  },
  {
   "cell_type": "code",
   "execution_count": 66,
   "metadata": {},
   "outputs": [],
   "source": [
    "os.environ[\"GOOGLE_APPLICATION_CREDENTIALS\"] = r\"C:\\Users\\baumgaertel\\OneDrive - FAZ\\Desktop\\Data Science\\Projects\\Video Game Sales\\video-game-sales-374016-5b760956097d.json\"\n",
    "client = bigquery.Client()"
   ]
  },
  {
   "attachments": {},
   "cell_type": "markdown",
   "metadata": {},
   "source": [
    "# EDA and Analysis"
   ]
  },
  {
   "cell_type": "code",
   "execution_count": 67,
   "metadata": {},
   "outputs": [],
   "source": [
    "query = \"\"\"\n",
    "    SELECT *\n",
    "    FROM video-game-sales-374016.nutrition.nutrition_table \n",
    "\"\"\"\n",
    "df = client.query(query).to_dataframe()"
   ]
  },
  {
   "cell_type": "code",
   "execution_count": 68,
   "metadata": {},
   "outputs": [
    {
     "name": "stdout",
     "output_type": "stream",
     "text": [
      "<class 'pandas.core.frame.DataFrame'>\n",
      "RangeIndex: 530 entries, 0 to 529\n",
      "Data columns (total 14 columns):\n",
      " #   Column             Non-Null Count  Dtype  \n",
      "---  ------             --------------  -----  \n",
      " 0   Company            530 non-null    object \n",
      " 1   Category           530 non-null    object \n",
      " 2   Product            530 non-null    object \n",
      " 3   Per_Serve_Size     530 non-null    object \n",
      " 4   Energy__kCal_      530 non-null    float64\n",
      " 5   Carbohydrates__g_  530 non-null    float64\n",
      " 6   Protein__g_        530 non-null    float64\n",
      " 7   Fiber__g_          530 non-null    float64\n",
      " 8   Sugar__g_          530 non-null    float64\n",
      " 9   Total_Fat__g_      530 non-null    float64\n",
      " 10  Saturated_Fat__g_  530 non-null    float64\n",
      " 11  Trans_Fat__g_      530 non-null    float64\n",
      " 12  Cholesterol__mg_   530 non-null    float64\n",
      " 13  Sodium__mg_        443 non-null    float64\n",
      "dtypes: float64(10), object(4)\n",
      "memory usage: 58.1+ KB\n"
     ]
    }
   ],
   "source": [
    "df.info()"
   ]
  },
  {
   "cell_type": "code",
   "execution_count": 69,
   "metadata": {},
   "outputs": [],
   "source": [
    "df.drop_duplicates(subset='Product', keep='first', inplace=True)"
   ]
  },
  {
   "cell_type": "code",
   "execution_count": 70,
   "metadata": {},
   "outputs": [
    {
     "data": {
      "text/plain": [
       "0      All Meals\n",
       "1      All Meals\n",
       "2      All Meals\n",
       "3      All Meals\n",
       "4      All Meals\n",
       "         ...    \n",
       "525    All Meals\n",
       "526    All Meals\n",
       "527    All Meals\n",
       "528    All Meals\n",
       "529    All Meals\n",
       "Name: Category, Length: 464, dtype: object"
      ]
     },
     "execution_count": 70,
     "metadata": {},
     "output_type": "execute_result"
    }
   ],
   "source": [
    "### Column \"Category\" adds no value to the Dataset.\n",
    "\n",
    "df.pop(\"Category\")"
   ]
  },
  {
   "cell_type": "code",
   "execution_count": 71,
   "metadata": {},
   "outputs": [],
   "source": [
    "COMPANIES = list(df[\"Company\"].unique())\n",
    "\n",
    "kfc = []\n",
    "dominos = []\n",
    "mcd = []\n",
    "pizzahut = []\n",
    "starbucks = []\n",
    "burgerking = []\n",
    "\n",
    "c = 0\n",
    "\n",
    "bp_data = [kfc, dominos, mcd, pizzahut, starbucks, burgerking]\n",
    "for name in COMPANIES:\n",
    "    for item in df.loc[df[\"Company\"] == name][\"Energy__kCal_\"]:\n",
    "        bp_data[c].append(item)\n",
    "    c += 1"
   ]
  },
  {
   "cell_type": "code",
   "execution_count": 72,
   "metadata": {},
   "outputs": [
    {
     "data": {
      "text/plain": [
       "Text(0.5, 0, 'Company')"
      ]
     },
     "execution_count": 72,
     "metadata": {},
     "output_type": "execute_result"
    },
    {
     "data": {
      "image/png": "[encoded data removed]",
      "text/plain": [
       "<Figure size 1152x576 with 1 Axes>"
      ]
     },
     "metadata": {
      "needs_background": "light"
     },
     "output_type": "display_data"
    }
   ],
   "source": [
    "ax = plt.figure(figsize=(16,8))\n",
    "plt.boxplot(bp_data, labels=COMPANIES, patch_artist=True)\n",
    "plt.title(\"Calories in Products by Company\")\n",
    "plt.ylabel(\"Calories in Product\")\n",
    "plt.xlabel(\"Company\")"
   ]
  },
  {
   "attachments": {},
   "cell_type": "markdown",
   "metadata": {},
   "source": [
    "The minimum values for some of the Companies seems to be 0. I'm assuming the products in question is water or Diet Drinks."
   ]
  },
  {
   "cell_type": "code",
   "execution_count": 73,
   "metadata": {},
   "outputs": [
    {
     "data": {
      "text/html": [
       "<div>\n",
       "<style scoped>\n",
       "    .dataframe tbody tr th:only-of-type {\n",
       "        vertical-align: middle;\n",
       "    }\n",
       "\n",
       "    .dataframe tbody tr th {\n",
       "        vertical-align: top;\n",
       "    }\n",
       "\n",
       "    .dataframe thead th {\n",
       "        text-align: right;\n",
       "    }\n",
       "</style>\n",
       "<table border=\"1\" class=\"dataframe\">\n",
       "  <thead>\n",
       "    <tr style=\"text-align: right;\">\n",
       "      <th></th>\n",
       "      <th>Company</th>\n",
       "      <th>Product</th>\n",
       "      <th>Per_Serve_Size</th>\n",
       "      <th>Energy__kCal_</th>\n",
       "      <th>Carbohydrates__g_</th>\n",
       "      <th>Protein__g_</th>\n",
       "      <th>Fiber__g_</th>\n",
       "      <th>Sugar__g_</th>\n",
       "      <th>Total_Fat__g_</th>\n",
       "      <th>Saturated_Fat__g_</th>\n",
       "      <th>Trans_Fat__g_</th>\n",
       "      <th>Cholesterol__mg_</th>\n",
       "      <th>Sodium__mg_</th>\n",
       "    </tr>\n",
       "  </thead>\n",
       "  <tbody>\n",
       "    <tr>\n",
       "      <th>17</th>\n",
       "      <td>KFC</td>\n",
       "      <td>Pepsi Black</td>\n",
       "      <td>300.0</td>\n",
       "      <td>0.0</td>\n",
       "      <td>0.0</td>\n",
       "      <td>0.0</td>\n",
       "      <td>0.0</td>\n",
       "      <td>0.0</td>\n",
       "      <td>0.0</td>\n",
       "      <td>0.0</td>\n",
       "      <td>0.0</td>\n",
       "      <td>0.0</td>\n",
       "      <td>0.0</td>\n",
       "    </tr>\n",
       "    <tr>\n",
       "      <th>194</th>\n",
       "      <td>McDonalds</td>\n",
       "      <td>Vedica Natural Mineral Water</td>\n",
       "      <td>500.0</td>\n",
       "      <td>0.0</td>\n",
       "      <td>0.0</td>\n",
       "      <td>0.0</td>\n",
       "      <td>0.0</td>\n",
       "      <td>0.0</td>\n",
       "      <td>0.0</td>\n",
       "      <td>0.0</td>\n",
       "      <td>0.0</td>\n",
       "      <td>0.0</td>\n",
       "      <td>2.9</td>\n",
       "    </tr>\n",
       "    <tr>\n",
       "      <th>408</th>\n",
       "      <td>Pizza Hut</td>\n",
       "      <td>Lipton Ice Tea Lemon Flavoured</td>\n",
       "      <td>250 ml</td>\n",
       "      <td>0.0</td>\n",
       "      <td>0.0</td>\n",
       "      <td>0.0</td>\n",
       "      <td>0.0</td>\n",
       "      <td>0.0</td>\n",
       "      <td>0.0</td>\n",
       "      <td>0.0</td>\n",
       "      <td>0.0</td>\n",
       "      <td>0.0</td>\n",
       "      <td>15.0</td>\n",
       "    </tr>\n",
       "  </tbody>\n",
       "</table>\n",
       "</div>"
      ],
      "text/plain": [
       "       Company                         Product Per_Serve_Size  Energy__kCal_  \\\n",
       "17         KFC                     Pepsi Black          300.0            0.0   \n",
       "194  McDonalds    Vedica Natural Mineral Water          500.0            0.0   \n",
       "408  Pizza Hut  Lipton Ice Tea Lemon Flavoured         250 ml            0.0   \n",
       "\n",
       "     Carbohydrates__g_  Protein__g_  Fiber__g_  Sugar__g_  Total_Fat__g_  \\\n",
       "17                 0.0          0.0        0.0        0.0            0.0   \n",
       "194                0.0          0.0        0.0        0.0            0.0   \n",
       "408                0.0          0.0        0.0        0.0            0.0   \n",
       "\n",
       "     Saturated_Fat__g_  Trans_Fat__g_  Cholesterol__mg_  Sodium__mg_  \n",
       "17                 0.0            0.0               0.0          0.0  \n",
       "194                0.0            0.0               0.0          2.9  \n",
       "408                0.0            0.0               0.0         15.0  "
      ]
     },
     "metadata": {},
     "output_type": "display_data"
    }
   ],
   "source": [
    "display(df.loc[df[\"Energy__kCal_\"] == 0]) # My assumption was correct."
   ]
  },
  {
   "attachments": {},
   "cell_type": "markdown",
   "metadata": {},
   "source": [
    "I want to separate Drinks from Meals / Food. I won't be able to do that entirely since some of the Products are Menus or Combos, but I'm going to try and parse the products by fat (or fiber) content since drinks usually don't have any fat in them."
   ]
  },
  {
   "cell_type": "code",
   "execution_count": 74,
   "metadata": {},
   "outputs": [
    {
     "data": {
      "text/html": [
       "<div>\n",
       "<style scoped>\n",
       "    .dataframe tbody tr th:only-of-type {\n",
       "        vertical-align: middle;\n",
       "    }\n",
       "\n",
       "    .dataframe tbody tr th {\n",
       "        vertical-align: top;\n",
       "    }\n",
       "\n",
       "    .dataframe thead th {\n",
       "        text-align: right;\n",
       "    }\n",
       "</style>\n",
       "<table border=\"1\" class=\"dataframe\">\n",
       "  <thead>\n",
       "    <tr style=\"text-align: right;\">\n",
       "      <th></th>\n",
       "      <th>Company</th>\n",
       "      <th>Product</th>\n",
       "      <th>Per_Serve_Size</th>\n",
       "      <th>Energy__kCal_</th>\n",
       "      <th>Carbohydrates__g_</th>\n",
       "      <th>Protein__g_</th>\n",
       "      <th>Fiber__g_</th>\n",
       "      <th>Sugar__g_</th>\n",
       "      <th>Total_Fat__g_</th>\n",
       "      <th>Saturated_Fat__g_</th>\n",
       "      <th>Trans_Fat__g_</th>\n",
       "      <th>Cholesterol__mg_</th>\n",
       "      <th>Sodium__mg_</th>\n",
       "    </tr>\n",
       "  </thead>\n",
       "  <tbody>\n",
       "    <tr>\n",
       "      <th>6</th>\n",
       "      <td>KFC</td>\n",
       "      <td>7up Krush\\nLime</td>\n",
       "      <td>210.0</td>\n",
       "      <td>81.9</td>\n",
       "      <td>4.10</td>\n",
       "      <td>20.40</td>\n",
       "      <td>0.00</td>\n",
       "      <td>34.10</td>\n",
       "      <td>0.00</td>\n",
       "      <td>0.00</td>\n",
       "      <td>0.0</td>\n",
       "      <td>0.0</td>\n",
       "      <td>0.10</td>\n",
       "    </tr>\n",
       "    <tr>\n",
       "      <th>7</th>\n",
       "      <td>KFC</td>\n",
       "      <td>Sparkling\\nVanilla Blue)</td>\n",
       "      <td>310.0</td>\n",
       "      <td>120.9</td>\n",
       "      <td>6.00</td>\n",
       "      <td>30.10</td>\n",
       "      <td>0.00</td>\n",
       "      <td>34.00</td>\n",
       "      <td>0.00</td>\n",
       "      <td>0.00</td>\n",
       "      <td>0.0</td>\n",
       "      <td>0.0</td>\n",
       "      <td>0.00</td>\n",
       "    </tr>\n",
       "    <tr>\n",
       "      <th>8</th>\n",
       "      <td>KFC</td>\n",
       "      <td>(Virgin\\nMojito/</td>\n",
       "      <td>310.0</td>\n",
       "      <td>120.4</td>\n",
       "      <td>6.00</td>\n",
       "      <td>30.10</td>\n",
       "      <td>0.00</td>\n",
       "      <td>22.32</td>\n",
       "      <td>0.00</td>\n",
       "      <td>0.00</td>\n",
       "      <td>0.0</td>\n",
       "      <td>0.0</td>\n",
       "      <td>0.00</td>\n",
       "    </tr>\n",
       "    <tr>\n",
       "      <th>9</th>\n",
       "      <td>KFC</td>\n",
       "      <td>Pepsi\\nRegular</td>\n",
       "      <td>330.0</td>\n",
       "      <td>141.9</td>\n",
       "      <td>36.00</td>\n",
       "      <td>0.00</td>\n",
       "      <td>0.00</td>\n",
       "      <td>35.97</td>\n",
       "      <td>0.00</td>\n",
       "      <td>0.00</td>\n",
       "      <td>0.0</td>\n",
       "      <td>0.0</td>\n",
       "      <td>0.00</td>\n",
       "    </tr>\n",
       "    <tr>\n",
       "      <th>10</th>\n",
       "      <td>KFC</td>\n",
       "      <td>Mirinda\\nRegular</td>\n",
       "      <td>330.0</td>\n",
       "      <td>181.5</td>\n",
       "      <td>45.50</td>\n",
       "      <td>0.00</td>\n",
       "      <td>0.00</td>\n",
       "      <td>45.54</td>\n",
       "      <td>0.00</td>\n",
       "      <td>0.00</td>\n",
       "      <td>0.0</td>\n",
       "      <td>0.0</td>\n",
       "      <td>0.00</td>\n",
       "    </tr>\n",
       "    <tr>\n",
       "      <th>...</th>\n",
       "      <td>...</td>\n",
       "      <td>...</td>\n",
       "      <td>...</td>\n",
       "      <td>...</td>\n",
       "      <td>...</td>\n",
       "      <td>...</td>\n",
       "      <td>...</td>\n",
       "      <td>...</td>\n",
       "      <td>...</td>\n",
       "      <td>...</td>\n",
       "      <td>...</td>\n",
       "      <td>...</td>\n",
       "      <td>...</td>\n",
       "    </tr>\n",
       "    <tr>\n",
       "      <th>439</th>\n",
       "      <td>Pizza Hut</td>\n",
       "      <td>Masal Pepsi</td>\n",
       "      <td>250 ml</td>\n",
       "      <td>126.5</td>\n",
       "      <td>30.93</td>\n",
       "      <td>0.21</td>\n",
       "      <td>0.14</td>\n",
       "      <td>30.33</td>\n",
       "      <td>0.38</td>\n",
       "      <td>0.04</td>\n",
       "      <td>0.0</td>\n",
       "      <td>0.0</td>\n",
       "      <td>412.59</td>\n",
       "    </tr>\n",
       "    <tr>\n",
       "      <th>440</th>\n",
       "      <td>Pizza Hut</td>\n",
       "      <td>Masala Mirinda</td>\n",
       "      <td>250 ml</td>\n",
       "      <td>156.5</td>\n",
       "      <td>38.18</td>\n",
       "      <td>0.21</td>\n",
       "      <td>0.14</td>\n",
       "      <td>37.58</td>\n",
       "      <td>0.38</td>\n",
       "      <td>0.04</td>\n",
       "      <td>0.0</td>\n",
       "      <td>0.0</td>\n",
       "      <td>420.00</td>\n",
       "    </tr>\n",
       "    <tr>\n",
       "      <th>444</th>\n",
       "      <td>Starbucks</td>\n",
       "      <td>Maple Brown Sugar</td>\n",
       "      <td>13.0</td>\n",
       "      <td>50.0</td>\n",
       "      <td>13.00</td>\n",
       "      <td>0.00</td>\n",
       "      <td>0.00</td>\n",
       "      <td>12.00</td>\n",
       "      <td>0.00</td>\n",
       "      <td>0.00</td>\n",
       "      <td>0.0</td>\n",
       "      <td>0.0</td>\n",
       "      <td>3.00</td>\n",
       "    </tr>\n",
       "    <tr>\n",
       "      <th>450</th>\n",
       "      <td>Starbucks</td>\n",
       "      <td>Dried Fruit</td>\n",
       "      <td>30.0</td>\n",
       "      <td>100.0</td>\n",
       "      <td>24.00</td>\n",
       "      <td>1.00</td>\n",
       "      <td>2.00</td>\n",
       "      <td>22.00</td>\n",
       "      <td>0.40</td>\n",
       "      <td>0.00</td>\n",
       "      <td>0.0</td>\n",
       "      <td>0.0</td>\n",
       "      <td>0.00</td>\n",
       "    </tr>\n",
       "    <tr>\n",
       "      <th>471</th>\n",
       "      <td>Starbucks</td>\n",
       "      <td>Seasonal Fruit Cup</td>\n",
       "      <td>170.0</td>\n",
       "      <td>80.0</td>\n",
       "      <td>20.00</td>\n",
       "      <td>1.00</td>\n",
       "      <td>3.00</td>\n",
       "      <td>17.00</td>\n",
       "      <td>0.00</td>\n",
       "      <td>0.00</td>\n",
       "      <td>0.0</td>\n",
       "      <td>0.0</td>\n",
       "      <td>15.00</td>\n",
       "    </tr>\n",
       "  </tbody>\n",
       "</table>\n",
       "<p>62 rows × 13 columns</p>\n",
       "</div>"
      ],
      "text/plain": [
       "       Company                   Product Per_Serve_Size  Energy__kCal_  \\\n",
       "6          KFC           7up Krush\\nLime          210.0           81.9   \n",
       "7          KFC  Sparkling\\nVanilla Blue)          310.0          120.9   \n",
       "8          KFC          (Virgin\\nMojito/          310.0          120.4   \n",
       "9          KFC            Pepsi\\nRegular          330.0          141.9   \n",
       "10         KFC          Mirinda\\nRegular          330.0          181.5   \n",
       "..         ...                       ...            ...            ...   \n",
       "439  Pizza Hut               Masal Pepsi         250 ml          126.5   \n",
       "440  Pizza Hut            Masala Mirinda         250 ml          156.5   \n",
       "444  Starbucks         Maple Brown Sugar           13.0           50.0   \n",
       "450  Starbucks               Dried Fruit           30.0          100.0   \n",
       "471  Starbucks        Seasonal Fruit Cup          170.0           80.0   \n",
       "\n",
       "     Carbohydrates__g_  Protein__g_  Fiber__g_  Sugar__g_  Total_Fat__g_  \\\n",
       "6                 4.10        20.40       0.00      34.10           0.00   \n",
       "7                 6.00        30.10       0.00      34.00           0.00   \n",
       "8                 6.00        30.10       0.00      22.32           0.00   \n",
       "9                36.00         0.00       0.00      35.97           0.00   \n",
       "10               45.50         0.00       0.00      45.54           0.00   \n",
       "..                 ...          ...        ...        ...            ...   \n",
       "439              30.93         0.21       0.14      30.33           0.38   \n",
       "440              38.18         0.21       0.14      37.58           0.38   \n",
       "444              13.00         0.00       0.00      12.00           0.00   \n",
       "450              24.00         1.00       2.00      22.00           0.40   \n",
       "471              20.00         1.00       3.00      17.00           0.00   \n",
       "\n",
       "     Saturated_Fat__g_  Trans_Fat__g_  Cholesterol__mg_  Sodium__mg_  \n",
       "6                 0.00            0.0               0.0         0.10  \n",
       "7                 0.00            0.0               0.0         0.00  \n",
       "8                 0.00            0.0               0.0         0.00  \n",
       "9                 0.00            0.0               0.0         0.00  \n",
       "10                0.00            0.0               0.0         0.00  \n",
       "..                 ...            ...               ...          ...  \n",
       "439               0.04            0.0               0.0       412.59  \n",
       "440               0.04            0.0               0.0       420.00  \n",
       "444               0.00            0.0               0.0         3.00  \n",
       "450               0.00            0.0               0.0         0.00  \n",
       "471               0.00            0.0               0.0        15.00  \n",
       "\n",
       "[62 rows x 13 columns]"
      ]
     },
     "metadata": {},
     "output_type": "display_data"
    }
   ],
   "source": [
    "display(df.loc[df[\"Total_Fat__g_\"] < 0.5])\n",
    "\n",
    "drinks = df.drop(df[df.Total_Fat__g_ < 0.5].index, inplace=True)\n",
    "meals = df.copy()"
   ]
  },
  {
   "cell_type": "code",
   "execution_count": 75,
   "metadata": {},
   "outputs": [],
   "source": [
    "kfc = []\n",
    "dominos = []\n",
    "mcd = []\n",
    "pizzahut = []\n",
    "starbucks = []\n",
    "burgerking = []\n",
    "\n",
    "c = 0\n",
    "\n",
    "bp_data = [kfc, dominos, mcd, pizzahut, starbucks, burgerking]\n",
    "for name in COMPANIES:\n",
    "    for item in meals.loc[df[\"Company\"] == name][\"Energy__kCal_\"]:\n",
    "        bp_data[c].append(item)\n",
    "    c += 1"
   ]
  },
  {
   "cell_type": "code",
   "execution_count": 76,
   "metadata": {},
   "outputs": [
    {
     "data": {
      "text/plain": [
       "Text(0.5, 0, 'Company')"
      ]
     },
     "execution_count": 76,
     "metadata": {},
     "output_type": "execute_result"
    },
    {
     "data": {
      "image/png": "[encoded data removed]",
      "text/plain": [
       "<Figure size 1152x576 with 1 Axes>"
      ]
     },
     "metadata": {
      "needs_background": "light"
     },
     "output_type": "display_data"
    }
   ],
   "source": [
    "ax = plt.figure(figsize=(16,8))\n",
    "plt.boxplot(bp_data, labels=COMPANIES, patch_artist=True)\n",
    "plt.title(\"Calories in Products by Company\")\n",
    "plt.ylabel(\"Calories in Meal\")\n",
    "plt.xlabel(\"Company\")"
   ]
  },
  {
   "attachments": {},
   "cell_type": "markdown",
   "metadata": {},
   "source": [
    "Notice how Starbucks' chart hasn't really changed although almost all of the most popular items are drinks. This is, of course, because of the fat content in milk and lactose products that they use in Coffee and Tea-based drinks."
   ]
  },
  {
   "attachments": {},
   "cell_type": "markdown",
   "metadata": {},
   "source": [
    "### Mean and Median Energy Content per Meal"
   ]
  },
  {
   "cell_type": "code",
   "execution_count": 77,
   "metadata": {},
   "outputs": [],
   "source": [
    "mean_cal = []\n",
    "median_cal = []\n",
    "\n",
    "# get mean calories\n",
    "for count, value in enumerate(COMPANIES):\n",
    "    mean_cal.append([COMPANIES[count], (meals[\"Energy__kCal_\"].loc[meals[\"Company\"] == COMPANIES[count]].sum())/ len(meals.loc[meals[\"Company\"] == COMPANIES[count]])])\n",
    "\n",
    "# get median calories\n",
    "for item in COMPANIES:\n",
    "    median_cal.append([item, meals[\"Energy__kCal_\"].loc[meals[\"Company\"] == item].median()])"
   ]
  },
  {
   "attachments": {},
   "cell_type": "markdown",
   "metadata": {},
   "source": [
    "Fast Food Restaurants don't really differ in terms of drinks. Usually the same things are served, which is why I won't analyze the drinks."
   ]
  },
  {
   "attachments": {},
   "cell_type": "markdown",
   "metadata": {},
   "source": [
    "## Creating Score System"
   ]
  },
  {
   "attachments": {},
   "cell_type": "markdown",
   "metadata": {},
   "source": [
    "The Idea is to create a score for every meal that ranks healthiness based on percentage of macronutrients.\n",
    "\n",
    "High Protein content should increase the score while high sugar and saturated fats should lower the score"
   ]
  },
  {
   "attachments": {},
   "cell_type": "markdown",
   "metadata": {},
   "source": [
    "Metrics:\n",
    "\n",
    "kCal per gram -- \n",
    "Carbohydrates per gram =\n",
    "Sugar per Gram --\n",
    "Protein per gram ++\n",
    "Fiber per gram =\n",
    "Fat per gram =\n",
    "Saturated Fat --\n",
    "Trans Fat --\n",
    "Cholesterol -\n",
    "Sodium per g =\n",
    "\n",
    "Legend:\n",
    "-- amount negatively influences score\n",
    "++ amount positively influences score\n",
    "= no quantifiable effect on healthiness"
   ]
  },
  {
   "cell_type": "code",
   "execution_count": 78,
   "metadata": {},
   "outputs": [],
   "source": [
    "### Modifying Per_serve_size column\n",
    "\n",
    "print(meals[\"Per_Serve_Size\"].unique())\n",
    "\n",
    "# Some values end with g or ml or something. Those have to be cleaned and converted to int values.\n",
    "\n",
    "for num in range(len(meals)):\n",
    "    if meals[\"Per_Serve_Size\"].iloc[num].endswith(\"g\"):\n",
    "        new_string = meals[\"Per_Serve_Size\"].iloc[num][:-1]\n",
    "        meals[\"Per_Serve_Size\"].iloc[num] = int(float(new_string))\n",
    "    elif meals[\"Per_Serve_Size\"].iloc[num].endswith(\" g\"):\n",
    "        new_string = meals[\"Per_Serve_Size\"].iloc[num][:-2]\n",
    "        meals[\"Per_Serve_Size\"].iloc[num] = int(float(new_string))\n",
    "    elif meals[\"Per_Serve_Size\"].iloc[num].endswith(\"*\"):\n",
    "        new_string = meals[\"Per_Serve_Size\"].iloc[num][:-1]\n",
    "        meals[\"Per_Serve_Size\"].iloc[num] = int(float(new_string))\n",
    "    else: meals[\"Per_Serve_Size\"].iloc[num] = int(float(meals[\"Per_Serve_Size\"].iloc[num]))\n",
    "\n",
    "clear_output()"
   ]
  },
  {
   "attachments": {},
   "cell_type": "markdown",
   "metadata": {},
   "source": [
    "### Create Macronutrient by Per_Serve_Size Columns"
   ]
  },
  {
   "cell_type": "code",
   "execution_count": 79,
   "metadata": {},
   "outputs": [],
   "source": [
    "meals[\"kCal_per_g\"] = meals[\"Energy__kCal_\"] / meals[\"Per_Serve_Size\"]\n",
    "meals[\"Carb_per_g\"] = meals[\"Carbohydrates__g_\"] / meals[\"Per_Serve_Size\"]\n",
    "meals[\"Protein_per_g\"] = meals[\"Protein__g_\"] / meals[\"Per_Serve_Size\"]\n",
    "meals[\"Fiber_per_g\"] = meals[\"Fiber__g_\"] / meals[\"Per_Serve_Size\"]\n",
    "meals[\"Sugar_per_g\"] = meals[\"Sugar__g_\"] / meals[\"Per_Serve_Size\"]\n",
    "meals[\"Fat_per_g\"] = meals[\"Total_Fat__g_\"] / meals[\"Per_Serve_Size\"]\n",
    "meals[\"SatFat_per_g\"] = meals[\"Saturated_Fat__g_\"] / meals[\"Per_Serve_Size\"]\n",
    "meals[\"TransFat_per_g\"] = meals[\"Trans_Fat__g_\"] / meals[\"Per_Serve_Size\"]\n",
    "meals[\"Cholesterol_per_g\"] = meals[\"Cholesterol__mg_\"] / meals[\"Per_Serve_Size\"]\n",
    "meals[\"Sodium_per_g\"] = meals[\"Sodium__mg_\"] / meals[\"Per_Serve_Size\"]"
   ]
  },
  {
   "cell_type": "code",
   "execution_count": 80,
   "metadata": {},
   "outputs": [],
   "source": [
    "too_high = meals[\"kCal_per_g\"].sort_values(ascending=False, ignore_index=True)\n",
    "\n",
    "# It's impossible for any food to have more than 9kCal per gram. Those values will be removed.\n",
    "\n",
    "for value in too_high.values:\n",
    "    if value > 9:\n",
    "        meals.drop(meals[meals[\"kCal_per_g\"] == value].index, inplace=True)"
   ]
  },
  {
   "cell_type": "code",
   "execution_count": 81,
   "metadata": {},
   "outputs": [
    {
     "name": "stderr",
     "output_type": "stream",
     "text": [
      "C:\\Users\\baumgaertel\\AppData\\Local\\Temp\\ipykernel_24844\\1376943282.py:23: SettingWithCopyWarning: \n",
      "A value is trying to be set on a copy of a slice from a DataFrame\n",
      "\n",
      "See the caveats in the documentation: https://pandas.pydata.org/pandas-docs/stable/user_guide/indexing.html#returning-a-view-versus-a-copy\n",
      "  meals[\"Score\"].iloc[num] = 7.75\n"
     ]
    }
   ],
   "source": [
    "### Instantiate Score for every row\n",
    "meals[\"Score\"] = 0\n",
    "\n",
    "# Max value for kcal_per_g\n",
    "\n",
    "max_kcal = max(meals[\"kCal_per_g\"])\n",
    "min_kcal = min(meals[\"kCal_per_g\"])\n",
    "\n",
    "for num in range(len(meals)):\n",
    "    if meals[\"kCal_per_g\"].iloc[num] >= 8:\n",
    "        meals[\"Score\"].iloc[num] = 1.0\n",
    "    elif meals[\"kCal_per_g\"].iloc[num] >= 7 and meals[\"kCal_per_g\"].iloc[num] < 8:\n",
    "        meals[\"Score\"].iloc[num] = 2.125\n",
    "    elif meals[\"kCal_per_g\"].iloc[num] >= 6 and meals[\"kCal_per_g\"].iloc[num] < 7:\n",
    "        meals[\"Score\"].iloc[num] = 3.25\n",
    "    elif meals[\"kCal_per_g\"].iloc[num] >= 5 and meals[\"kCal_per_g\"].iloc[num] < 6:\n",
    "        meals[\"Score\"].iloc[num] = 4.375\n",
    "    elif meals[\"kCal_per_g\"].iloc[num] >= 4 and meals[\"kCal_per_g\"].iloc[num] < 5:\n",
    "        meals[\"Score\"].iloc[num] = 5.5\n",
    "    elif meals[\"kCal_per_g\"].iloc[num] >= 3 and meals[\"kCal_per_g\"].iloc[num] < 4:\n",
    "        meals[\"Score\"].iloc[num] = 6.625\n",
    "    elif meals[\"kCal_per_g\"].iloc[num] >= 2 and meals[\"kCal_per_g\"].iloc[num] < 3:\n",
    "        meals[\"Score\"].iloc[num] = 7.75\n",
    "    elif meals[\"kCal_per_g\"].iloc[num] >= 1 and meals[\"kCal_per_g\"].iloc[num] < 2:\n",
    "        meals[\"Score\"].iloc[num] = 8.875\n",
    "    elif meals[\"kCal_per_g\"].iloc[num] >= 0 and meals[\"kCal_per_g\"].iloc[num] < 1:\n",
    "        meals[\"Score\"].iloc[num] = 10\n",
    "\n",
    "# Score ranges from 1-10. The steps for every kcal per g are 1.125 to account for the scale."
   ]
  },
  {
   "attachments": {},
   "cell_type": "markdown",
   "metadata": {},
   "source": [
    "### Protein influence"
   ]
  },
  {
   "cell_type": "code",
   "execution_count": 82,
   "metadata": {},
   "outputs": [],
   "source": [
    "### Protein content multiplies score\n",
    "\n",
    "divs = max(meals[\"Protein_per_g\"]) / 9\n",
    "multipliers = []\n",
    "\n",
    "for num in range(1,10):\n",
    "    multipliers.append(divs*num)\n",
    "print(multipliers)\n",
    "# Lowest divisor of Protein_per_g multiplies score by 0.6, going up in steps of 0.1\n",
    "\n",
    "for num in range(len(meals)):\n",
    "    if meals[\"Protein_per_g\"].iloc[num] < multipliers[8] and meals[\"Protein_per_g\"].iloc[num] > multipliers[7]:\n",
    "        meals[\"Score\"].iloc[num] *= 1.4\n",
    "    elif meals[\"Score\"].iloc[num] < multipliers[7] and meals[\"Protein_per_g\"].iloc[num] > multipliers[6]:\n",
    "        meals[\"Score\"].iloc[num] *= 1.3\n",
    "    elif meals[\"Score\"].iloc[num] < multipliers[6] and meals[\"Protein_per_g\"].iloc[num] > multipliers[5]:\n",
    "        meals[\"Score\"].iloc[num] *= 1.2\n",
    "    elif meals[\"Protein_per_g\"].iloc[num] < multipliers[5] and meals[\"Protein_per_g\"].iloc[num] > multipliers[4]:\n",
    "        meals[\"Score\"].iloc[num] *= 1.1\n",
    "    elif meals[\"Protein_per_g\"].iloc[num] < multipliers[4] and meals[\"Protein_per_g\"].iloc[num] > multipliers[3]:\n",
    "        None\n",
    "    elif meals[\"Protein_per_g\"].iloc[num] < multipliers[3] and meals[\"Protein_per_g\"].iloc[num] > multipliers[2]:\n",
    "        meals[\"Score\"].iloc[num] *= 0.9\n",
    "    elif meals[\"Protein_per_g\"].iloc[num] < multipliers[2] and meals[\"Protein_per_g\"].iloc[num] > multipliers[1]:\n",
    "        meals[\"Score\"].iloc[num] *= 0.8\n",
    "    elif meals[\"Protein_per_g\"].iloc[num] < multipliers[1] and meals[\"Protein_per_g\"].iloc[num] > multipliers[0]:\n",
    "        meals[\"Score\"].iloc[num] *= 0.7\n",
    "    elif meals[\"Protein_per_g\"].iloc[num] < multipliers[0] and meals[\"Protein_per_g\"].iloc[num] > 0:\n",
    "        meals[\"Score\"].iloc[num] *= 0.6\n",
    "clear_output()"
   ]
  },
  {
   "attachments": {},
   "cell_type": "markdown",
   "metadata": {},
   "source": [
    "### Sugar Influence"
   ]
  },
  {
   "cell_type": "code",
   "execution_count": 84,
   "metadata": {},
   "outputs": [],
   "source": [
    "### Sugar content reduces score\n",
    "\n",
    "divs = max(meals[\"Sugar_per_g\"]) / 9\n",
    "multipliers = []\n",
    "\n",
    "for num in range(1,10):\n",
    "    multipliers.append(divs*num)\n",
    "print(multipliers)\n",
    "# Highest divisor of Sugar_per_g multiplies score by 0.5, going up in steps of 0.1\n",
    "\n",
    "for num in range(len(meals)):\n",
    "    if meals[\"Sugar_per_g\"].iloc[num] > 0 and meals[\"Sugar_per_g\"].iloc[num] < multipliers[0]:\n",
    "        meals[\"Score\"].iloc[num] *= 1.3\n",
    "    elif meals[\"Sugar_per_g\"].iloc[num] > multipliers[0] and meals[\"Sugar_per_g\"].iloc[num] < multipliers[1]:\n",
    "        meals[\"Score\"].iloc[num] *= 1.2\n",
    "    elif meals[\"Sugar_per_g\"].iloc[num] > multipliers[1] and meals[\"Sugar_per_g\"].iloc[num] < multipliers[2]:\n",
    "        meals[\"Score\"].iloc[num] *= 1.1\n",
    "    elif meals[\"Sugar_per_g\"].iloc[num] > multipliers[2] and meals[\"Sugar_per_g\"].iloc[num] < multipliers[3]:\n",
    "        meals[\"Score\"].iloc[num] *= 1\n",
    "    elif meals[\"Sugar_per_g\"].iloc[num] > multipliers[3] and meals[\"Sugar_per_g\"].iloc[num] < multipliers[4]:\n",
    "        meals[\"Score\"].iloc[num] *= 0.9\n",
    "    elif meals[\"Sugar_per_g\"].iloc[num] > multipliers[4] and meals[\"Sugar_per_g\"].iloc[num] < multipliers[5]:\n",
    "        meals[\"Score\"].iloc[num] *= 0.8\n",
    "    elif meals[\"Sugar_per_g\"].iloc[num] > multipliers[5] and meals[\"Sugar_per_g\"].iloc[num] < multipliers[6]:\n",
    "        meals[\"Score\"].iloc[num] *= 0.7\n",
    "    elif meals[\"Sugar_per_g\"].iloc[num] > multipliers[6] and meals[\"Sugar_per_g\"].iloc[num] < multipliers[7]:\n",
    "        meals[\"Score\"].iloc[num] *= 0.6\n",
    "    elif meals[\"Sugar_per_g\"].iloc[num] > multipliers[7] and meals[\"Sugar_per_g\"].iloc[num] < multipliers[8]:\n",
    "        meals[\"Score\"].iloc[num] *= 0.5\n",
    "clear_output()"
   ]
  },
  {
   "attachments": {},
   "cell_type": "markdown",
   "metadata": {},
   "source": [
    "### Scaling Values to have highest Value of 10"
   ]
  },
  {
   "cell_type": "code",
   "execution_count": 85,
   "metadata": {},
   "outputs": [
    {
     "name": "stdout",
     "output_type": "stream",
     "text": [
      "10.2\n"
     ]
    }
   ],
   "source": [
    "def scale_values():\n",
    "    \"\"\"Scale Values to max 10\"\"\"\n",
    "    unique_scores = list(meals[\"Score\"].unique())\n",
    "    def func(x):\n",
    "        gradient = (1 - 10/max(unique_scores))/max(unique_scores) * -1\n",
    "        return round((gradient * x + (1-gradient)) * x, 1)\n",
    "    new_scores = []\n",
    "    for num in meals[\"Score\"]:\n",
    "        new_scores.append(func(num))\n",
    "    return new_scores\n",
    "\n",
    "print(max(scale_values()))"
   ]
  },
  {
   "cell_type": "code",
   "execution_count": 86,
   "metadata": {},
   "outputs": [],
   "source": [
    "meals[\"Score\"] = scale_values()"
   ]
  },
  {
   "cell_type": "code",
   "execution_count": 87,
   "metadata": {},
   "outputs": [
    {
     "data": {
      "text/html": [
       "<div>\n",
       "<style scoped>\n",
       "    .dataframe tbody tr th:only-of-type {\n",
       "        vertical-align: middle;\n",
       "    }\n",
       "\n",
       "    .dataframe tbody tr th {\n",
       "        vertical-align: top;\n",
       "    }\n",
       "\n",
       "    .dataframe thead th {\n",
       "        text-align: right;\n",
       "    }\n",
       "</style>\n",
       "<table border=\"1\" class=\"dataframe\">\n",
       "  <thead>\n",
       "    <tr style=\"text-align: right;\">\n",
       "      <th></th>\n",
       "      <th>Company</th>\n",
       "      <th>Product</th>\n",
       "      <th>Per_Serve_Size</th>\n",
       "      <th>Energy__kCal_</th>\n",
       "      <th>Carbohydrates__g_</th>\n",
       "      <th>Protein__g_</th>\n",
       "      <th>Fiber__g_</th>\n",
       "      <th>Sugar__g_</th>\n",
       "      <th>Total_Fat__g_</th>\n",
       "      <th>Saturated_Fat__g_</th>\n",
       "      <th>...</th>\n",
       "      <th>Carb_per_g</th>\n",
       "      <th>Protein_per_g</th>\n",
       "      <th>Fiber_per_g</th>\n",
       "      <th>Sugar_per_g</th>\n",
       "      <th>Fat_per_g</th>\n",
       "      <th>SatFat_per_g</th>\n",
       "      <th>TransFat_per_g</th>\n",
       "      <th>Cholesterol_per_g</th>\n",
       "      <th>Sodium_per_g</th>\n",
       "      <th>Score</th>\n",
       "    </tr>\n",
       "  </thead>\n",
       "  <tbody>\n",
       "    <tr>\n",
       "      <th>26</th>\n",
       "      <td>KFC</td>\n",
       "      <td>1 pc</td>\n",
       "      <td>92</td>\n",
       "      <td>174.9</td>\n",
       "      <td>8.0</td>\n",
       "      <td>21.3</td>\n",
       "      <td>4.0</td>\n",
       "      <td>0.0</td>\n",
       "      <td>6.4</td>\n",
       "      <td>1.8</td>\n",
       "      <td>...</td>\n",
       "      <td>0.086957</td>\n",
       "      <td>0.231522</td>\n",
       "      <td>0.043478</td>\n",
       "      <td>0.0</td>\n",
       "      <td>0.069565</td>\n",
       "      <td>0.019565</td>\n",
       "      <td>0.000217</td>\n",
       "      <td>0.097826</td>\n",
       "      <td>0.002174</td>\n",
       "      <td>10.1</td>\n",
       "    </tr>\n",
       "  </tbody>\n",
       "</table>\n",
       "<p>1 rows × 24 columns</p>\n",
       "</div>"
      ],
      "text/plain": [
       "   Company Product Per_Serve_Size  Energy__kCal_  Carbohydrates__g_  \\\n",
       "26     KFC    1 pc             92          174.9                8.0   \n",
       "\n",
       "    Protein__g_  Fiber__g_  Sugar__g_  Total_Fat__g_  Saturated_Fat__g_  ...  \\\n",
       "26         21.3        4.0        0.0            6.4                1.8  ...   \n",
       "\n",
       "    Carb_per_g  Protein_per_g  Fiber_per_g Sugar_per_g Fat_per_g SatFat_per_g  \\\n",
       "26    0.086957       0.231522     0.043478         0.0  0.069565     0.019565   \n",
       "\n",
       "   TransFat_per_g Cholesterol_per_g Sodium_per_g Score  \n",
       "26       0.000217          0.097826     0.002174  10.1  \n",
       "\n",
       "[1 rows x 24 columns]"
      ]
     },
     "metadata": {},
     "output_type": "display_data"
    }
   ],
   "source": [
    "display(meals.loc[meals[\"Product\"] == \"1 pc\"])"
   ]
  },
  {
   "cell_type": "code",
   "execution_count": 88,
   "metadata": {},
   "outputs": [],
   "source": [
    "import csv\n",
    "\n",
    "with open(r\"C:\\Users\\baumgaertel\\OneDrive - FAZ\\Desktop\\Data Science\\Projects\\Fast Food Nutrition\\Fast_Food_Scores.csv\", \"w\") as file:\n",
    "    meals.to_csv(path_or_buf=file, sep=\",\", line_terminator=\"\\n\")"
   ]
  }
 ],
 "metadata": {
  "kernelspec": {
   "display_name": "base",
   "language": "python",
   "name": "python3"
  },
  "language_info": {
   "codemirror_mode": {
    "name": "ipython",
    "version": 3
   },
   "file_extension": ".py",
   "mimetype": "text/x-python",
   "name": "python",
   "nbconvert_exporter": "python",
   "pygments_lexer": "ipython3",
   "version": "3.9.12"
  },
  "orig_nbformat": 4,
  "vscode": {
   "interpreter": {
    "hash": "3ac820e58a294020fda66b16a6fac6f830b75c59b26f9dd3381b5b92bbdb9e55"
   }
  }
 },
 "nbformat": 4,
 "nbformat_minor": 2
}
